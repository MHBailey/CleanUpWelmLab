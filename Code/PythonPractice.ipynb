{
 "cells": [
  {
   "cell_type": "code",
   "execution_count": 4,
   "metadata": {},
   "outputs": [
    {
     "name": "stdout",
     "output_type": "stream",
     "text": [
      "Hello loco\n"
     ]
    }
   ],
   "source": [
    "print (\"Hello loco\")"
   ]
  },
  {
   "cell_type": "code",
   "execution_count": 5,
   "metadata": {},
   "outputs": [
    {
     "name": "stdout",
     "output_type": "stream",
     "text": [
      "Hello loco\n"
     ]
    }
   ],
   "source": [
    "    print (\"Hello loco\")"
   ]
  },
  {
   "cell_type": "code",
   "execution_count": 6,
   "metadata": {},
   "outputs": [
    {
     "ename": "SyntaxError",
     "evalue": "invalid syntax (<ipython-input-6-966961006e82>, line 1)",
     "output_type": "error",
     "traceback": [
      "\u001b[1;36m  File \u001b[1;32m\"<ipython-input-6-966961006e82>\"\u001b[1;36m, line \u001b[1;32m1\u001b[0m\n\u001b[1;33m    import.math\u001b[0m\n\u001b[1;37m          ^\u001b[0m\n\u001b[1;31mSyntaxError\u001b[0m\u001b[1;31m:\u001b[0m invalid syntax\n"
     ]
    }
   ],
   "source": [
    "import.math"
   ]
  },
  {
   "cell_type": "code",
   "execution_count": 7,
   "metadata": {},
   "outputs": [],
   "source": [
    "import math"
   ]
  },
  {
   "cell_type": "code",
   "execution_count": 8,
   "metadata": {},
   "outputs": [],
   "source": [
    "Pi = math.pi"
   ]
  },
  {
   "cell_type": "code",
   "execution_count": 9,
   "metadata": {},
   "outputs": [
    {
     "ename": "SyntaxError",
     "evalue": "Missing parentheses in call to 'print'. Did you mean print(Pi)? (<ipython-input-9-5875216f7710>, line 1)",
     "output_type": "error",
     "traceback": [
      "\u001b[1;36m  File \u001b[1;32m\"<ipython-input-9-5875216f7710>\"\u001b[1;36m, line \u001b[1;32m1\u001b[0m\n\u001b[1;33m    print Pi\u001b[0m\n\u001b[1;37m           ^\u001b[0m\n\u001b[1;31mSyntaxError\u001b[0m\u001b[1;31m:\u001b[0m Missing parentheses in call to 'print'. Did you mean print(Pi)?\n"
     ]
    }
   ],
   "source": [
    "print Pi"
   ]
  },
  {
   "cell_type": "code",
   "execution_count": 10,
   "metadata": {},
   "outputs": [
    {
     "ename": "NameError",
     "evalue": "name 'Print' is not defined",
     "output_type": "error",
     "traceback": [
      "\u001b[1;31m---------------------------------------------------------------------------\u001b[0m",
      "\u001b[1;31mNameError\u001b[0m                                 Traceback (most recent call last)",
      "\u001b[1;32m<ipython-input-10-fa5cdbc84057>\u001b[0m in \u001b[0;36m<module>\u001b[1;34m\u001b[0m\n\u001b[1;32m----> 1\u001b[1;33m \u001b[0mPrint\u001b[0m \u001b[1;33m(\u001b[0m\u001b[0mPi\u001b[0m\u001b[1;33m)\u001b[0m\u001b[1;33m\u001b[0m\u001b[1;33m\u001b[0m\u001b[0m\n\u001b[0m",
      "\u001b[1;31mNameError\u001b[0m: name 'Print' is not defined"
     ]
    }
   ],
   "source": [
    "Print (Pi)"
   ]
  },
  {
   "cell_type": "code",
   "execution_count": 17,
   "metadata": {},
   "outputs": [
    {
     "name": "stdout",
     "output_type": "stream",
     "text": [
      "3141592653.589793\n"
     ]
    }
   ],
   "source": [
    "print (Pi)"
   ]
  },
  {
   "cell_type": "code",
   "execution_count": 16,
   "metadata": {},
   "outputs": [],
   "source": [
    "Pi = Pi * 1000"
   ]
  },
  {
   "cell_type": "code",
   "execution_count": 40,
   "metadata": {},
   "outputs": [
    {
     "name": "stdout",
     "output_type": "stream",
     "text": [
      "Because I now know Python I can calculate the earths Volume from its Circumference: 44000000 m.\n",
      "It is ....drumroll: 1.0788679634236127e+21 m\n"
     ]
    }
   ],
   "source": [
    "EarthCircumference = 44000000\n",
    "EarthRadius = EarthCircumference / (2 * math.pi)\n",
    "EarthVolume = math.pow(EarthRadius, 3) * math.pi\n",
    "print (\"Because I now know Python I can calculate the earths Volume from its Circumference:\" , EarthCircumference , \"m.\" \"\\n\"\n",
    "      \"It is ....drumroll:\" , EarthVolume , \"m\")"
   ]
  },
  {
   "cell_type": "code",
   "execution_count": 31,
   "metadata": {},
   "outputs": [
    {
     "name": "stdout",
     "output_type": "stream",
     "text": [
      "Spass 1.0788679634236127e+21\n"
     ]
    }
   ],
   "source": [
    "print (\"Spass\" , EarthVolume)"
   ]
  },
  {
   "cell_type": "code",
   "execution_count": 39,
   "metadata": {},
   "outputs": [
    {
     "name": "stdout",
     "output_type": "stream",
     "text": [
      "Das Volumen der Erde ist 1.0788679634236127e+21 km³ \n",
      "At least if you believe that 44000000 is the circumference\n"
     ]
    }
   ],
   "source": [
    "print (f\"Das Volumen der Erde ist {EarthVolume} km³ \\nAt least if you believe that {EarthCircumference} is the circumference\")"
   ]
  },
  {
   "cell_type": "code",
   "execution_count": null,
   "metadata": {
    "scrolled": true
   },
   "outputs": [],
   "source": []
  },
  {
   "cell_type": "code",
   "execution_count": 17,
   "metadata": {},
   "outputs": [
    {
     "name": "stdout",
     "output_type": "stream",
     "text": [
      "['Number', 'Letter', 'Secret Letter']\n",
      "{'A': 'R', 'a': 'r', 'B': 'V', 'b': 'v', 'C': 'L', 'c': 'l', 'D': 'B', 'd': 'b', 'E': 'K', 'e': 'k', 'F': 'E', 'f': 'e', 'G': 'I', 'g': 'i', 'H': 'Q', 'h': 'q', 'I': 'W', 'i': 'w', 'J': 'T', 'j': 't', 'K': 'G', 'k': 'g', 'L': 'P', 'l': 'p', 'M': 'N', 'm': 'n', 'N': 'O', 'n': 'o', 'O': 'Y', 'o': 'y', 'P': 'H', 'p': 'h', 'Q': 'S', 'q': 's', 'R': 'X', 'r': 'x', 'S': 'F', 's': 'f', 'T': 'J', 't': 'j', 'U': 'A', 'u': 'a', 'V': 'U', 'v': 'u', 'W': 'Z', 'w': 'z', 'X': 'M', 'x': 'm', 'Y': 'C', 'y': 'c', 'Z': 'D', 'z': 'd'}\n",
      "[3, 27]\n"
     ]
    }
   ],
   "source": [
    "import xlrd\n",
    "from xlrd import open_workbook\n",
    "\n",
    "book = open_workbook('D:\\PyPractice XLSX.xlsx')\n",
    "sheet = book.sheet_by_index(0)\n",
    "\n",
    "keys = [sheet.cell(0, col_index).value for col_index in range(sheet.ncols)]\n",
    "print (keys)\n",
    "\n",
    "Dict = {}\n",
    "Dimensions = []\n",
    "Dimensions = [sheet.ncols, sheet.nrows]\n",
    "\n",
    "for row_index in range(1, sheet.nrows):\n",
    "#    d = {keys[col_index]: sheet.cell(row_index, col_index).value for col_index in range(sheet.ncols)}\n",
    "#    Dict.append(d)\n",
    "    Dict[sheet.cell(row_index,1).value] = sheet.cell(row_index,2).value\n",
    "    Dict[sheet.cell(row_index,1).value.lower()] = sheet.cell(row_index,2).value.lower()\n",
    "print (Dict)\n",
    "print (Dimensions)"
   ]
  },
  {
   "cell_type": "code",
   "execution_count": 18,
   "metadata": {},
   "outputs": [],
   "source": [
    "def SSL_code ( Statement, MyDict):\n",
    "    \"This is the function to code a Statement into Scherers Secret Language\"\n",
    "    S = list(Statement)\n",
    "    C =[]\n",
    "    for i in range(0, len(S)):\n",
    "        SecretL = MyDict[S[i]]\n",
    "        C.append(SecretL)\n",
    "    \n",
    "    return \"\".join(C)\n"
   ]
  },
  {
   "cell_type": "code",
   "execution_count": 19,
   "metadata": {},
   "outputs": [
    {
     "data": {
      "text/plain": [
       "'Lyyp'"
      ]
     },
     "execution_count": 19,
     "metadata": {},
     "output_type": "execute_result"
    }
   ],
   "source": [
    "SSL_code (\"Cool\", Dict)"
   ]
  },
  {
   "cell_type": "code",
   "execution_count": 88,
   "metadata": {},
   "outputs": [
    {
     "name": "stdout",
     "output_type": "stream",
     "text": [
      "Der Wert der Variable x ist: 8 und sein Typ ist <class 'int'>\n",
      "Der Wert der Variable y ist: Das ging doch einfach so mit dem String, oder? und sein Typ ist <class 'str'>\n"
     ]
    }
   ],
   "source": [
    "x = 8\n",
    "y = \"Das ging doch einfach so mit dem String, oder?\"\n",
    "\n",
    "print (\"Der Wert der Variable x ist:\" , x , \"und sein Typ ist\" , type(x))\n",
    "print (\"Der Wert der Variable y ist:\" , y , \"und sein Typ ist\" , type(y))"
   ]
  },
  {
   "cell_type": "code",
   "execution_count": 83,
   "metadata": {},
   "outputs": [
    {
     "name": "stdout",
     "output_type": "stream",
     "text": [
      "[{'Number': 9.0, 'Letter': 'I'}]\n"
     ]
    }
   ],
   "source": [
    "def ReadLine ( position):\n",
    "    \"This is some useless Help Line\"\n",
    "    return Array[position-1:position]\n",
    "\n",
    "#help(ReadLine)\n",
    "\n",
    "\n",
    "print (ReadLine ( 9))\n"
   ]
  },
  {
   "cell_type": "code",
   "execution_count": 93,
   "metadata": {},
   "outputs": [
    {
     "name": "stdout",
     "output_type": "stream",
     "text": [
      "[{'Number': 6.0, 'Letter': 'F', 'Secret Letter': 'E'}]\n",
      "[{'Number': 7.0, 'Letter': 'G', 'Secret Letter': 'I'}]\n",
      "[{'Number': 8.0, 'Letter': 'H', 'Secret Letter': 'Q'}]\n",
      "[{'Number': 9.0, 'Letter': 'I', 'Secret Letter': 'W'}]\n",
      "[{'Number': 10.0, 'Letter': 'J', 'Secret Letter': 'T'}]\n",
      "[{'Number': 11.0, 'Letter': 'K', 'Secret Letter': 'G'}]\n",
      "[{'Number': 12.0, 'Letter': 'L', 'Secret Letter': 'P'}]\n",
      "[{'Number': 13.0, 'Letter': 'M', 'Secret Letter': 'N'}]\n",
      "[{'Number': 14.0, 'Letter': 'N', 'Secret Letter': 'O'}]\n",
      "[{'Number': 15.0, 'Letter': 'O', 'Secret Letter': 'Y'}]\n"
     ]
    }
   ],
   "source": [
    "for x in range(6, 16):\n",
    "    print (ReadLine ( x))"
   ]
  },
  {
   "cell_type": "code",
   "execution_count": 74,
   "metadata": {},
   "outputs": [
    {
     "name": "stdout",
     "output_type": "stream",
     "text": [
      "[{'Number': 23.0, 'Letter': 'W'}]\n"
     ]
    }
   ],
   "source": [
    "print (ReadLine ( 23))"
   ]
  },
  {
   "cell_type": "code",
   "execution_count": 117,
   "metadata": {},
   "outputs": [
    {
     "ename": "ValueError",
     "evalue": "1 is not in list",
     "output_type": "error",
     "traceback": [
      "\u001b[1;31m---------------------------------------------------------------------------\u001b[0m",
      "\u001b[1;31mValueError\u001b[0m                                Traceback (most recent call last)",
      "\u001b[1;32m<ipython-input-117-baa0c77b206f>\u001b[0m in \u001b[0;36m<module>\u001b[1;34m\u001b[0m\n\u001b[1;32m----> 1\u001b[1;33m \u001b[0mSSL_code\u001b[0m \u001b[1;33m(\u001b[0m\u001b[1;34m\"Hallo\"\u001b[0m\u001b[1;33m)\u001b[0m\u001b[1;33m\u001b[0m\u001b[1;33m\u001b[0m\u001b[0m\n\u001b[0m",
      "\u001b[1;32m<ipython-input-116-a3b306e43b99>\u001b[0m in \u001b[0;36mSSL_code\u001b[1;34m(Statement)\u001b[0m\n\u001b[0;32m      3\u001b[0m     \u001b[0mS\u001b[0m \u001b[1;33m=\u001b[0m \u001b[0mlist\u001b[0m\u001b[1;33m(\u001b[0m\u001b[0mStatement\u001b[0m\u001b[1;33m)\u001b[0m\u001b[1;33m\u001b[0m\u001b[1;33m\u001b[0m\u001b[0m\n\u001b[0;32m      4\u001b[0m     \u001b[1;32mfor\u001b[0m \u001b[0mi\u001b[0m \u001b[1;32min\u001b[0m \u001b[0mrange\u001b[0m\u001b[1;33m(\u001b[0m\u001b[1;36m1\u001b[0m\u001b[1;33m,\u001b[0m \u001b[0mlen\u001b[0m\u001b[1;33m(\u001b[0m\u001b[0mS\u001b[0m\u001b[1;33m)\u001b[0m\u001b[1;33m)\u001b[0m\u001b[1;33m:\u001b[0m\u001b[1;33m\u001b[0m\u001b[1;33m\u001b[0m\u001b[0m\n\u001b[1;32m----> 5\u001b[1;33m         \u001b[0mC\u001b[0m \u001b[1;33m=\u001b[0m \u001b[0mArray\u001b[0m\u001b[1;33m.\u001b[0m\u001b[0mindex\u001b[0m\u001b[1;33m(\u001b[0m\u001b[0mi\u001b[0m\u001b[1;33m)\u001b[0m\u001b[1;33m\u001b[0m\u001b[1;33m\u001b[0m\u001b[0m\n\u001b[0m\u001b[0;32m      6\u001b[0m         \u001b[0mlist\u001b[0m\u001b[1;33m.\u001b[0m\u001b[0mappend\u001b[0m\u001b[1;33m(\u001b[0m\u001b[0mC\u001b[0m\u001b[1;33m)\u001b[0m\u001b[1;33m\u001b[0m\u001b[1;33m\u001b[0m\u001b[0m\n\u001b[0;32m      7\u001b[0m     \u001b[1;32mreturn\u001b[0m \u001b[0mC\u001b[0m\u001b[1;33m\u001b[0m\u001b[1;33m\u001b[0m\u001b[0m\n",
      "\u001b[1;31mValueError\u001b[0m: 1 is not in list"
     ]
    }
   ],
   "source": [
    "SSL_code (\"Hallo\")"
   ]
  },
  {
   "cell_type": "code",
   "execution_count": null,
   "metadata": {},
   "outputs": [],
   "source": [
    "def SSL_decode ( Statement)"
   ]
  }
 ],
 "metadata": {
  "kernelspec": {
   "display_name": "Python 3",
   "language": "python",
   "name": "python3"
  },
  "language_info": {
   "codemirror_mode": {
    "name": "ipython",
    "version": 3
   },
   "file_extension": ".py",
   "mimetype": "text/x-python",
   "name": "python",
   "nbconvert_exporter": "python",
   "pygments_lexer": "ipython3",
   "version": "3.7.3"
  }
 },
 "nbformat": 4,
 "nbformat_minor": 2
}
